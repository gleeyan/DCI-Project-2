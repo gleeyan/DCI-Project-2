{
  "nbformat": 4,
  "nbformat_minor": 0,
  "metadata": {
    "colab": {
      "name": "Guided Project: Exploring Hacker News Posts.ipynb",
      "provenance": []
    },
    "kernelspec": {
      "name": "python3",
      "display_name": "Python 3"
    }
  },
  "cells": [
    {
      "cell_type": "code",
      "metadata": {
        "id": "BGhcheyjdUo9",
        "colab_type": "code",
        "colab": {}
      },
      "source": [
        "# Read in the data.\n",
        "import csv\n",
        "\n",
        "f = open('hacker_news.csv')\n",
        "hn = list(csv.reader(f))\n",
        "hn[:5]"
      ],
      "execution_count": 0,
      "outputs": []
    },
    {
      "cell_type": "code",
      "metadata": {
        "id": "MKfOL106dfdJ",
        "colab_type": "code",
        "colab": {}
      },
      "source": [
        "# Remove the headers.\n",
        "headers = hn[0]\n",
        "hn = hn[1:]\n",
        "print(headers)\n",
        "print(hn[:5])"
      ],
      "execution_count": 0,
      "outputs": []
    },
    {
      "cell_type": "code",
      "metadata": {
        "id": "j9HLDOJKdicH",
        "colab_type": "code",
        "colab": {}
      },
      "source": [
        "# Identify posts that begin with either `Ask HN` or `Show HN` and separate the data into different lists.\n",
        "ask_posts = []\n",
        "show_posts =[]\n",
        "other_posts = []\n",
        "\n",
        "for post in hn:\n",
        "    title = post[1]\n",
        "    if title.lower().startswith(\"ask hn\"):\n",
        "        ask_posts.append(post)\n",
        "    elif title.lower().startswith(\"show hn\"):\n",
        "        show_posts.append(post)\n",
        "    else:\n",
        "        other_posts.append(post)\n",
        "        \n",
        "print(len(ask_posts))\n",
        "print(len(show_posts))\n",
        "print(len(other_posts))"
      ],
      "execution_count": 0,
      "outputs": []
    },
    {
      "cell_type": "code",
      "metadata": {
        "id": "B9nTf9-ydoZT",
        "colab_type": "code",
        "colab": {}
      },
      "source": [
        "# Calculate the average number of comments `Ask HN` posts receive.\n",
        "total_ask_comments = 0\n",
        "\n",
        "for post in ask_posts:\n",
        "    total_ask_comments += int(post[4])\n",
        "    \n",
        "avg_ask_comments = total_ask_comments / len(ask_posts)\n",
        "print(avg_ask_comments)"
      ],
      "execution_count": 0,
      "outputs": []
    },
    {
      "cell_type": "code",
      "metadata": {
        "id": "VJ7S1iBfdsxc",
        "colab_type": "code",
        "colab": {}
      },
      "source": [
        "total_show_comments = 0\n",
        "\n",
        "for post in show_posts:\n",
        "    total_show_comments += int(post[4])\n",
        "    \n",
        "avg_show_comments = total_show_comments / len(show_posts)\n",
        "print(avg_show_comments)"
      ],
      "execution_count": 0,
      "outputs": []
    },
    {
      "cell_type": "code",
      "metadata": {
        "id": "N2q1TGPJdwDb",
        "colab_type": "code",
        "outputId": "4704640e-c408-4650-941a-c1ff1ad5f121",
        "colab": {
          "base_uri": "https://localhost:8080/",
          "height": 34
        }
      },
      "source": [
        "# Calculate the amount of ask posts created during each hour of day and the number of comments received.\n",
        "import datetime as dt\n",
        "\n",
        "result_list = []\n",
        "\n",
        "for post in ask_posts:\n",
        "    result_list.append(\n",
        "        [post[6], int(post[4])]\n",
        "    )\n",
        "\n",
        "comments_by_hour = {}\n",
        "counts_by_hour = {}\n",
        "date_format = \"%m/%d/%Y %H:%M\"\n",
        "\n",
        "for each_row in result_list:\n",
        "    date = each_row[0]\n",
        "    comment = each_row[1]\n",
        "    time = dt.datetime.strptime(date, date_format).strftime(\"%H\")\n",
        "    if time in counts_by_hour:\n",
        "        comments_by_hour[time] += comment\n",
        "        counts_by_hour[time] += 1\n",
        "    else:\n",
        "        comments_by_hour[time] = comment\n",
        "        counts_by_hour[time] = 1\n",
        "\n",
        "comments_by_hour"
      ],
      "execution_count": 0,
      "outputs": [
        {
          "output_type": "execute_result",
          "data": {
            "text/plain": [
              "{}"
            ]
          },
          "metadata": {
            "tags": []
          },
          "execution_count": 7
        }
      ]
    },
    {
      "cell_type": "code",
      "metadata": {
        "id": "1YbHOZ-_dz6K",
        "colab_type": "code",
        "outputId": "d8ae644f-9683-48e3-8e54-686265de2875",
        "colab": {
          "base_uri": "https://localhost:8080/",
          "height": 34
        }
      },
      "source": [
        "\n",
        "# Calculate the average amount of comments `Ask HN` posts created at each hour of the day receive.\n",
        "avg_by_hour = []\n",
        "\n",
        "for hr in comments_by_hour:\n",
        "    avg_by_hour.append([hr, comments_by_hour[hr] / counts_by_hour[hr]])\n",
        "\n",
        "avg_by_hour"
      ],
      "execution_count": 0,
      "outputs": [
        {
          "output_type": "execute_result",
          "data": {
            "text/plain": [
              "[]"
            ]
          },
          "metadata": {
            "tags": []
          },
          "execution_count": 8
        }
      ]
    },
    {
      "cell_type": "code",
      "metadata": {
        "id": "iTeT2wdNd4lO",
        "colab_type": "code",
        "outputId": "a83b70ca-023a-4560-93a4-d2c8f336ee5b",
        "colab": {
          "base_uri": "https://localhost:8080/",
          "height": 51
        }
      },
      "source": [
        "swap_avg_by_hour = []\n",
        "\n",
        "for row in avg_by_hour:\n",
        "    swap_avg_by_hour.append([row[1], row[0]])\n",
        "    \n",
        "print(swap_avg_by_hour)\n",
        "\n",
        "sorted_swap = sorted(swap_avg_by_hour, reverse=True)\n",
        "\n",
        "sorted_swap"
      ],
      "execution_count": 0,
      "outputs": [
        {
          "output_type": "stream",
          "text": [
            "[]\n"
          ],
          "name": "stdout"
        },
        {
          "output_type": "execute_result",
          "data": {
            "text/plain": [
              "[]"
            ]
          },
          "metadata": {
            "tags": []
          },
          "execution_count": 9
        }
      ]
    },
    {
      "cell_type": "code",
      "metadata": {
        "id": "hmr_LQVxd8Tk",
        "colab_type": "code",
        "outputId": "62293e28-d7bc-43c0-d7fa-0429eaccd776",
        "colab": {
          "base_uri": "https://localhost:8080/",
          "height": 34
        }
      },
      "source": [
        "# Sort the values and print the the 5 hours with the highest average comments.\n",
        "\n",
        "print(\"Top 5 Hours for 'Ask HN' Comments\")\n",
        "for avg, hr in sorted_swap[:5]:\n",
        "    print(\n",
        "        \"{}: {:.2f} average comments per post\".format(\n",
        "            dt.datetime.strptime(hr, \"%H\").strftime(\"%H:%M\"),avg\n",
        "        )\n",
        "    )"
      ],
      "execution_count": 0,
      "outputs": [
        {
          "output_type": "stream",
          "text": [
            "Top 5 Hours for 'Ask HN' Comments\n"
          ],
          "name": "stdout"
        }
      ]
    },
    {
      "cell_type": "code",
      "metadata": {
        "id": "tt_04TE-d_WB",
        "colab_type": "code",
        "colab": {}
      },
      "source": [
        ""
      ],
      "execution_count": 0,
      "outputs": []
    }
  ]
}